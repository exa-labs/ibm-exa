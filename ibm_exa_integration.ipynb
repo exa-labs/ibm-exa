{
 "cells": [
  {
   "cell_type": "markdown",
   "metadata": {},
   "source": [
    "# IBM WatsonX + Exa Integration\n",
    "\n",
    "This notebook demonstrates how to combine IBM WatsonX AI with Exa's web search capabilities to create an AI assistant that can search and use current information."
   ]
  },
  {
   "cell_type": "markdown",
   "metadata": {},
   "source": [
    "## 1. Setup\n",
    "\n",
    "First, let's install the required packages:"
   ]
  },
  {
   "cell_type": "code",
   "execution_count": null,
   "metadata": {},
   "source": [
    "!pip install ibm-watsonx-ai exa-py python-dotenv"
   ]
  },
  {
   "cell_type": "markdown",
   "metadata": {},
   "source": [
    "## 2. Environment Setup\n",
    "\n",
    "Create a `.env` file with your API keys or set them directly here:"
   ]
  },
  {
   "cell_type": "code",
   "execution_count": null,
   "metadata": {},
   "source": [
    "import os\n",
    "from dotenv import load_dotenv\n",
    "\n",
    "# Load from .env file\n",
    "load_dotenv()\n",
    "\n",
    "# Or set directly (replace with your keys)\n",
    "os.environ['IBM_WATSONX_API_KEY'] = 'your_ibm_key'\n",
    "os.environ['IBM_WATSONX_URL'] = 'https://us-south.ml.cloud.ibm.com'\n",
    "os.environ['IBM_WATSONX_PROJECT_ID'] = 'your_project_id'\n",
    "os.environ['EXA_API_KEY'] = 'your_exa_key'"
   ]
  },
  {
   "cell_type": "markdown",
   "metadata": {},
   "source": [
    "## 3. IBM WatsonX Client\n",
    "\n",
    "Set up the IBM WatsonX client:"
   ]
  },
  {
   "cell_type": "code",
   "execution_count": null,
   "metadata": {},
   "source": [
    "from ibm_watsonx_ai import APIClient, Credentials\n",
    "\n",
    "def get_client():\n",
    "    \"\"\"Create and return a configured IBM WatsonX AI client.\"\"\"\n",
    "    credentials = Credentials(\n",
    "        url=os.getenv('IBM_WATSONX_URL'),\n",
    "        api_key=os.getenv('IBM_WATSONX_API_KEY')\n",
    "    )\n",
    "    return APIClient(\n",
    "        credentials=credentials,\n",
    "        project_id=os.getenv('IBM_WATSONX_PROJECT_ID')\n",
    "    )"
   ]
  },
  {
   "cell_type": "markdown",
   "metadata": {},
   "source": [
    "## 4. Exa Search Client\n",
    "\n",
    "Set up the Exa web search client:"
   ]
  },
  {
   "cell_type": "code",
   "execution_count": null,
   "metadata": {},
   "source": [
    "from typing import List, Dict, Any\n",
    "from exa_py import Exa\n",
    "\n",
    "class ExaSearchClient:\n",
    "    def __init__(self, api_key: str):\n",
    "        self.client = Exa(api_key=api_key)\n",
    "    \n",
    "    def search(self, query: str, num_results: int = 3) -> List[Dict[str, Any]]:\n",
    "        response = self.client.search_and_contents(\n",
    "            query,\n",
    "            type=\"auto\",\n",
    "            num_results=num_results,\n",
    "            text=True\n",
    "        )\n",
    "        \n",
    "        formatted_results = []\n",
    "        if isinstance(response, dict) and 'data' in response:\n",
    "            for result in response['data'].get('results', []):\n",
    "                if 'text' in result:\n",
    "                    formatted_results.append({\n",
    "                        \"title\": result.get('title', 'No title'),\n",
    "                        \"text\": result['text'][:500] + \"...\" if len(result['text']) > 500 else result['text'],\n",
    "                        \"url\": result.get('url', ''),\n",
    "                        \"score\": result.get('score', 0.0)\n",
    "                    })\n",
    "        \n",
    "        return formatted_results"
   ]
  },
  {
   "cell_type": "markdown",
   "metadata": {},
   "source": [
    "## 5. Tool Definition\n",
    "\n",
    "Define the web search tool:"
   ]
  },
  {
   "cell_type": "code",
   "execution_count": null,
   "metadata": {},
   "source": [
    "import json\n",
    "\n",
    "def create_web_search_tool():\n",
    "    return {\n",
    "        \"type\": \"function\",\n",
    "        \"function\": {\n",
    "            \"name\": \"web_search\",\n",
    "            \"description\": \"Search the web for current information. Always cite sources.\",\n",
    "            \"parameters\": {\n",
    "                \"type\": \"object\",\n",
    "                \"properties\": {\n",
    "                    \"query\": {\n",
    "                        \"type\": \"string\",\n",
    "                        \"description\": \"The search query\"\n",
    "                    }\n",
    "                },\n",
    "                \"required\": [\"query\"]\n",
    "            }\n",
    "        }\n",
    "    }\n",
    "\n",
    "class ToolExecutor:\n",
    "    def __init__(self, exa_client):\n",
    "        self.exa_client = exa_client\n",
    "    \n",
    "    def execute_tool(self, tool_call):\n",
    "        if tool_call[\"type\"] != \"function\":\n",
    "            return \"Unsupported tool type\"\n",
    "        \n",
    "        function_call = tool_call[\"function\"]\n",
    "        if function_call[\"name\"] == \"web_search\":\n",
    "            query = json.loads(function_call[\"arguments\"])[\"query\"]\n",
    "            results = self.exa_client.search(query)\n",
    "            \n",
    "            return \"\\n\\n\".join(\n",
    "                f\"Source: {r['title']}\\nURL: {r['url']}\\nContent: {r['text']}\\n\"\n",
    "                for r in results\n",
    "            )"
   ]
  },
  {
   "cell_type": "markdown",
   "metadata": {},
   "source": [
    "## 6. Main Model\n",
    "\n",
    "Create the main model with tool calling:"
   ]
  },
  {
   "cell_type": "code",
   "execution_count": null,
   "metadata": {},
   "source": [
    "from ibm_watsonx_ai.foundation_models import ModelInference\n",
    "\n",
    "class WatsonXModel:\n",
    "    def __init__(self, exa_api_key):\n",
    "        self.client_wrapper = get_client()\n",
    "        self.exa_client = ExaSearchClient(exa_api_key)\n",
    "        self.tool_executor = ToolExecutor(self.exa_client)\n",
    "        \n",
    "        self.model = ModelInference(\n",
    "            model_id=\"mistralai/mistral-large\",\n",
    "            credentials=self.client_wrapper.credentials,\n",
    "            project_id=self.client_wrapper.project_id\n",
    "        )\n",
    "    \n",
    "    def ask(self, question: str) -> str:\n",
    "        messages = [{\"role\": \"user\", \"content\": question}]\n",
    "        tools = [create_web_search_tool()]\n",
    "        \n",
    "        # Get initial response with tool calls\n",
    "        response = self.model.chat(messages=messages, tools=tools)\n",
    "        \n",
    "        # Handle tool calls if any\n",
    "        if \"choices\" in response and response[\"choices\"]:\n",
    "            choice = response[\"choices\"][0]\n",
    "            if \"message\" in choice and \"tool_calls\" in choice[\"message\"]:\n",
    "                tool_calls = choice[\"message\"][\"tool_calls\"]\n",
    "                \n",
    "                # Execute tools and get results\n",
    "                tool_results = []\n",
    "                for tool_call in tool_calls:\n",
    "                    result = self.tool_executor.execute_tool(tool_call)\n",
    "                    tool_results.append(result)\n",
    "                \n",
    "                # Add results to conversation\n",
    "                messages.extend([\n",
    "                    {\n",
    "                        \"role\": \"assistant\",\n",
    "                        \"content\": None,\n",
    "                        \"tool_calls\": tool_calls\n",
    "                    },\n",
    "                    {\n",
    "                        \"role\": \"tool\",\n",
    "                        \"content\": \"\\n\\n\".join(tool_results),\n",
    "                        \"tool_call_id\": tool_calls[0][\"id\"]\n",
    "                    }\n",
    "                ])\n",
    "                \n",
    "                # Get final response\n",
    "                final_response = self.model.chat(messages=messages)\n",
    "                if \"choices\" in final_response and final_response[\"choices\"]:\n",
    "                    return final_response[\"choices\"][0][\"message\"][\"content\"].strip()\n",
    "        \n",
    "        return \"No response generated\""
   ]
  },
  {
   "cell_type": "markdown",
   "metadata": {},
   "source": [
    "## 7. Try It Out!\n",
    "\n",
    "Let's test the AI with some questions:"
   ]
  },
  {
   "cell_type": "code",
   "execution_count": null,
   "metadata": {},
   "source": [
    "# Initialize the model\n",
    "model = WatsonXModel(exa_api_key=os.getenv('EXA_API_KEY'))\n",
    "\n",
    "# Try some questions\n",
    "questions = [\n",
    "    \"What are the latest developments in AI regulation in 2024?\",\n",
    "    \"What are recent breakthroughs in quantum computing?\",\n",
    "    \"What are the current trends in renewable energy?\"\n",
    "]\n",
    "\n",
    "for question in questions:\n",
    "    print(f\"\\nQuestion: {question}\")\n",
    "    print(\"\\nAnswer:\")\n",
    "    print(model.ask(question))\n",
    "    print(\"\\n\" + \"-\"*80)"
   ]
  }
 ],
 "metadata": {
  "kernelspec": {
   "display_name": "Python 3",
   "language": "python",
   "name": "python3"
  },
  "language_info": {
   "codemirror_mode": {
    "name": "ipython",
    "version": 3
   },
   "file_extension": ".py",
   "mimetype": "text/x-python",
   "name": "python",
   "nbconvert_exporter": "python",
   "pygments_lexer": "ipython3",
   "version": "3.8.0"
  }
 },
 "nbformat": 4,
 "nbformat_minor": 4
} 
